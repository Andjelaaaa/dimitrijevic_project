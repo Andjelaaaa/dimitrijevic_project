{
 "cells": [
  {
   "cell_type": "markdown",
   "id": "0ebcaae4",
   "metadata": {
    "slideshow": {
     "slide_type": "slide"
    }
   },
   "source": [
    "# Project Title: Exploratory Work on the Predictive Clinical Neuroscience (PCN) Toolkit\n",
    "\n",
    "<img align=\"center\" width=\"480\" height=\"293\" src=\"https://media0.giphy.com/media/bfEJneSL2MkLe/giphy.gif?cid=790b76112879f4b39cf60655027322683e090252334ae60b&rid=giphy.gif&ct=g\">\n",
    "\n"
   ]
  },
  {
   "cell_type": "markdown",
   "id": "5c54ed5b",
   "metadata": {
    "slideshow": {
     "slide_type": "slide"
    }
   },
   "source": [
    "## Background\n",
    "The PCN toolkit aims at providing diffferent tools of normative modelling for understanding psychiatric disorders at the individual level including data selection, data preparation, algorithm & modelling and evaluation & interpretation (Rutherford et al., 2022). The figure 1 below illustrates concepts involved in normative modelling: \n",
    "\n",
    "<a href=\"https://pcntoolkit.readthedocs.io/en/latest/pages/pcntoolkit_background.html\">\n",
    "   <img src=\"https://pcntoolkit.readthedocs.io/en/latest/_images/blr_fig1.png\" width:100px;\" alt=\"\"/>\n",
    "   <br /><sub><b>Figure 1. Concepts involved in normative modelling... an image is worth 1000 words</b></sub>\n",
    "</a>\n"
   ]
  },
  {
   "cell_type": "markdown",
   "id": "e08f0ede",
   "metadata": {
    "slideshow": {
     "slide_type": "slide"
    }
   },
   "source": [
    "* The sub-figure **A)** represents how classical normative models are utilized using pediatric growth charts as examples. \n",
    "* Sub-figure **B)** highlights assumptions made during studies where different groups being studied are usually considered as homogeneous, when in fact there within-group heterogeneity.  \n",
    "* Sub-figure **C)** shows how normative modelling can be used to predict brain variables (in this case, mean cortical thickness) against age. This modelling is only possible by combining an enormous quantity of multi-site data from a certain interest population.\n",
    "* Finally, sub-figure **D)** illustrates the regression model used to obtain results shown in **C)**."
   ]
  },
  {
   "cell_type": "markdown",
   "id": "fb105064",
   "metadata": {
    "slideshow": {
     "slide_type": "slide"
    }
   },
   "source": [
    "## Objectives\n",
    "The aim of this project will be decomposed into three sub-objectives:\n",
    "* Start off with the available tutorial on the PCN toolkit documentation to get familiar to it\n",
    "* Use another set of data to follow through the available steps that this toolkit offers \n",
    "* Adapt some functionnalities which were found to be less intuitive to work with  <br />\n",
    "\n",
    "All of these three sub-objectives will be documented throughout the weeks to be able to be reproduced in later or other exploratory works. "
   ]
  },
  {
   "cell_type": "markdown",
   "id": "b27a7b4f",
   "metadata": {
    "slideshow": {
     "slide_type": "slide"
    }
   },
   "source": [
    "## Data at Hand\n",
    "First, the available data in the tutorials will be used. Then, the Calgary Preschool Dataset (Reynolds et al., 2020) will be analyzed using the PCN toolkit. This interesting and publicly available pediatric dataset is interesting in that it offers longitudinal data. Indeed, it contains T1-weighted images of around 64 subjects aged 2-8 years old. Figure 2 illustrates how a pediatric brain develops exponentially fast and why it is hard to normalize in those given age ranges.\n",
    "                                                                                                   \n",
    "<a href=\"https://pubmed.ncbi.nlm.nih.gov/29033222/\">\n",
    "   <img src=\"https://www.ncbi.nlm.nih.gov/pmc/articles/instance/6969273/bin/gr1.jpg\" width:200px;\" alt=\"\"/>\n",
    "   <br /><sub><b>Figure 2. Developmental trajectories for mean volumes of brain tissues with\n",
    "respect to age from [3]</b></sub>\n",
    "</a>"
   ]
  },
  {
   "cell_type": "markdown",
   "id": "1acf94fe",
   "metadata": {
    "slideshow": {
     "slide_type": "slide"
    }
   },
   "source": [
    "## Delivrables\n",
    "- A new tutorial on using PCN Toolkit on your own dataset\n",
    "- A report on all the aspects that have been tested \n",
    "- Shared code on GitHub during the exploration\n",
    "- A specific analysis pipeline packaged on a module (for introductory purposes)  "
   ]
  },
  {
   "cell_type": "markdown",
   "id": "5b372c15",
   "metadata": {
    "slideshow": {
     "slide_type": "slide"
    }
   },
   "source": [
    "## Tools Used:\n",
    "- [PCN Toolkit](https://pcntoolkit.readthedocs.io/en/latest/) and their [GitHub page](https://github.com/amarquand/PCNtoolkit)\n",
    "- Python Scripting\n",
    "- Machine Learning\n",
    "- Bash Terminal\n",
    "- Python Packaging\n",
    "\n",
    "<img align=\"center\" width=\"200\" height=\"293\" src=\"https://cdn3.iconfinder.com/data/icons/logos-and-brands-adobe/512/267_Python-512.png\">\n",
    "\n",
    "<img align=\"left\" width=\"300\" height=\"300\" src=\"https://lthub.ubc.ca/files/2021/06/GitHub-Logo.png\">\n",
    "\n",
    "<img align=\"right\" width=\"200\" height=\"293\" src=\"https://avatars.githubusercontent.com/u/8958471?v=4\">"
   ]
  },
  {
   "cell_type": "markdown",
   "id": "f5cfb793",
   "metadata": {
    "slideshow": {
     "slide_type": "slide"
    }
   },
   "source": [
    "## References\n",
    "\n",
    "[1] Reynolds, J. E., Long, X., Paniukov, D., Bagshawe, M., & Lebel, C. (2020). Calgary Preschool magnetic resonance imaging (MRI) dataset. Data Brief, 29, 105224. <br />\n",
    "[2] Rutherford, S., Kia, S. M., Wolfers, T., Fraza, C., Zabihi, M., Dinga, R., Berthet, P., Worker, A., Verdi, S., Ruhe, H. G., Beckmann, C. F., & Marquand, A. F. (2022). The normative modeling framework for computational psychiatry. Nature Protocols. https://doi.org/10.1038/s41596-022-00696-5 <br />\n",
    "[3] T. V. Phan et al. Processing of structural neuroimaging data in young children: Bridging the gap between current practice and state-of-the-art methods. In: Dev Cogn Neurosci 33 (2018), pp. 206{223. issn: 1878-9293 (Print) 1878-9293. doi: 10.1016/j.dcn.2017.08.009. <br />\n"
   ]
  }
 ],
 "metadata": {
  "celltoolbar": "Slideshow",
  "kernelspec": {
   "display_name": "Python 3 (ipykernel)",
   "language": "python",
   "name": "python3"
  },
  "language_info": {
   "codemirror_mode": {
    "name": "ipython",
    "version": 3
   },
   "file_extension": ".py",
   "mimetype": "text/x-python",
   "name": "python",
   "nbconvert_exporter": "python",
   "pygments_lexer": "ipython3",
   "version": "3.9.12"
  }
 },
 "nbformat": 4,
 "nbformat_minor": 5
}
